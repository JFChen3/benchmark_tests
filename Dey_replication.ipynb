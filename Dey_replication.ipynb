{
 "cells": [
  {
   "cell_type": "markdown",
   "metadata": {},
   "source": [
    "# Replicating the Results of Dey *et al.* 2014\n",
    "This notebook describes the creation of machine learning models for the band gaps for chalcopyrite compounds, following the paper by [Dey *et al.* (2014)](http://dx.doi.org/10.1016/j.commatsci.2013.10.016). In particular, recreates the hyper-parameter tuning, model evaluation, and feature selection reported in this work."
   ]
  },
  {
   "cell_type": "code",
   "execution_count": 1,
   "metadata": {},
   "outputs": [],
   "source": [
    "import numpy as np\n",
    "import matplotlib.pyplot as plt\n",
    "import re\n",
    "import itertools\n",
    "import pandas as pd\n",
    "from sklearn.linear_model import LinearRegression, LassoLars\n",
    "from sklearn.cross_decomposition import PLSRegression\n",
    "from sklearn.model_selection import cross_val_score, GridSearchCV, LeaveOneOut\n",
    "from sklearn import metrics\n",
    "\n",
    "%matplotlib inline"
   ]
  },
  {
   "cell_type": "markdown",
   "metadata": {},
   "source": [
    "## Load Training Data\n",
    "\n",
    "The data for this notebook was extracted from Tables 1 and 2 from the original paper. These are stored as `csv` files in the same directory as this notebook, for convenience."
   ]
  },
  {
   "cell_type": "markdown",
   "metadata": {},
   "source": [
    "### Load element data file into a Pandas Dataframe\n",
    "`element_data.csv` contains elemental properties for the all possible elements in the search space, which was provided in Table 1 of the paper.\n",
    "\n",
    "Specifically, this file contains:\n",
    "- EN: Electronegativity\n",
    "- AN: Atomic Number\n",
    "- MP: Melting point (K)\n",
    "- PR: Pseudopotential radius (as defined by [Suh and Rajan (2004)](http://www.sciencedirect.com/science/article/pii/S0169433203009188?via%3Dihub))\n",
    "- VL: Valency (as defined by as given by [Suh and Rajan (2004)](http://www.sciencedirect.com/science/article/pii/S0169433203009188?via%3Dihub))"
   ]
  },
  {
   "cell_type": "code",
   "execution_count": 2,
   "metadata": {
    "scrolled": false
   },
   "outputs": [
    {
     "name": "stdout",
     "output_type": "stream",
     "text": [
      "Elements in lookup tables: Ag Al As Cd Cu Ga Ge In P S Se Si Sn Te Zn\n"
     ]
    }
   ],
   "source": [
    "#Load input data into dictionary\n",
    "elem_data = pd.read_csv(\"datasets/dey_element_data.csv\")\n",
    "elem_properties = elem_data.set_index(\"#ELM\").T.to_dict(\"list\")\n",
    "print 'Elements in lookup tables:', ' '.join(sorted(elem_properties.keys()))"
   ]
  },
  {
   "cell_type": "markdown",
   "metadata": {},
   "source": [
    "### Load training data\n",
    "`training_set.csv` contains experimentally determined band gap values for each compound."
   ]
  },
  {
   "cell_type": "code",
   "execution_count": 3,
   "metadata": {
    "scrolled": true
   },
   "outputs": [
    {
     "data": {
      "text/html": [
       "<div>\n",
       "<style>\n",
       "    .dataframe thead tr:only-child th {\n",
       "        text-align: right;\n",
       "    }\n",
       "\n",
       "    .dataframe thead th {\n",
       "        text-align: left;\n",
       "    }\n",
       "\n",
       "    .dataframe tbody tr th {\n",
       "        vertical-align: top;\n",
       "    }\n",
       "</style>\n",
       "<table border=\"1\" class=\"dataframe\">\n",
       "  <thead>\n",
       "    <tr style=\"text-align: right;\">\n",
       "      <th></th>\n",
       "      <th>composition</th>\n",
       "      <th>band_gap</th>\n",
       "    </tr>\n",
       "  </thead>\n",
       "  <tbody>\n",
       "    <tr>\n",
       "      <th>0</th>\n",
       "      <td>CuAlS2</td>\n",
       "      <td>3.49</td>\n",
       "    </tr>\n",
       "    <tr>\n",
       "      <th>1</th>\n",
       "      <td>CuAlSe2</td>\n",
       "      <td>2.67</td>\n",
       "    </tr>\n",
       "    <tr>\n",
       "      <th>2</th>\n",
       "      <td>CuAlTe2</td>\n",
       "      <td>2.06</td>\n",
       "    </tr>\n",
       "    <tr>\n",
       "      <th>3</th>\n",
       "      <td>CuGaS2</td>\n",
       "      <td>2.43</td>\n",
       "    </tr>\n",
       "    <tr>\n",
       "      <th>4</th>\n",
       "      <td>CuGaSe2</td>\n",
       "      <td>1.68</td>\n",
       "    </tr>\n",
       "    <tr>\n",
       "      <th>5</th>\n",
       "      <td>CuGaTe2</td>\n",
       "      <td>1.12</td>\n",
       "    </tr>\n",
       "    <tr>\n",
       "      <th>6</th>\n",
       "      <td>CuInS2</td>\n",
       "      <td>1.53</td>\n",
       "    </tr>\n",
       "    <tr>\n",
       "      <th>7</th>\n",
       "      <td>CuInSe2</td>\n",
       "      <td>1.04</td>\n",
       "    </tr>\n",
       "    <tr>\n",
       "      <th>8</th>\n",
       "      <td>CuInTe2</td>\n",
       "      <td>1.06</td>\n",
       "    </tr>\n",
       "    <tr>\n",
       "      <th>9</th>\n",
       "      <td>AgAlS2</td>\n",
       "      <td>3.13</td>\n",
       "    </tr>\n",
       "    <tr>\n",
       "      <th>10</th>\n",
       "      <td>AgAlSe2</td>\n",
       "      <td>2.55</td>\n",
       "    </tr>\n",
       "    <tr>\n",
       "      <th>11</th>\n",
       "      <td>AgAlTe2</td>\n",
       "      <td>2.27</td>\n",
       "    </tr>\n",
       "    <tr>\n",
       "      <th>12</th>\n",
       "      <td>AgGaS2</td>\n",
       "      <td>2.64</td>\n",
       "    </tr>\n",
       "    <tr>\n",
       "      <th>13</th>\n",
       "      <td>AgGaSe2</td>\n",
       "      <td>1.80</td>\n",
       "    </tr>\n",
       "    <tr>\n",
       "      <th>14</th>\n",
       "      <td>AgGaTe2</td>\n",
       "      <td>1.32</td>\n",
       "    </tr>\n",
       "    <tr>\n",
       "      <th>15</th>\n",
       "      <td>AgInS2</td>\n",
       "      <td>1.87</td>\n",
       "    </tr>\n",
       "    <tr>\n",
       "      <th>16</th>\n",
       "      <td>AgInSe2</td>\n",
       "      <td>1.24</td>\n",
       "    </tr>\n",
       "    <tr>\n",
       "      <th>17</th>\n",
       "      <td>AgInTe2</td>\n",
       "      <td>0.95</td>\n",
       "    </tr>\n",
       "    <tr>\n",
       "      <th>18</th>\n",
       "      <td>ZnSiP2</td>\n",
       "      <td>2.07</td>\n",
       "    </tr>\n",
       "    <tr>\n",
       "      <th>19</th>\n",
       "      <td>ZnSiAs2</td>\n",
       "      <td>1.74</td>\n",
       "    </tr>\n",
       "    <tr>\n",
       "      <th>20</th>\n",
       "      <td>ZnGeP2</td>\n",
       "      <td>2.05</td>\n",
       "    </tr>\n",
       "    <tr>\n",
       "      <th>21</th>\n",
       "      <td>ZnGeAs2</td>\n",
       "      <td>1.15</td>\n",
       "    </tr>\n",
       "    <tr>\n",
       "      <th>22</th>\n",
       "      <td>CdSiP2</td>\n",
       "      <td>2.33</td>\n",
       "    </tr>\n",
       "    <tr>\n",
       "      <th>23</th>\n",
       "      <td>CdSiAs2</td>\n",
       "      <td>1.55</td>\n",
       "    </tr>\n",
       "    <tr>\n",
       "      <th>24</th>\n",
       "      <td>CdGeP2</td>\n",
       "      <td>1.72</td>\n",
       "    </tr>\n",
       "    <tr>\n",
       "      <th>25</th>\n",
       "      <td>CdGeAs2</td>\n",
       "      <td>0.57</td>\n",
       "    </tr>\n",
       "    <tr>\n",
       "      <th>26</th>\n",
       "      <td>CdSnP2</td>\n",
       "      <td>1.17</td>\n",
       "    </tr>\n",
       "    <tr>\n",
       "      <th>27</th>\n",
       "      <td>CdSnAs2</td>\n",
       "      <td>0.26</td>\n",
       "    </tr>\n",
       "  </tbody>\n",
       "</table>\n",
       "</div>"
      ],
      "text/plain": [
       "   composition  band_gap\n",
       "0       CuAlS2      3.49\n",
       "1      CuAlSe2      2.67\n",
       "2      CuAlTe2      2.06\n",
       "3       CuGaS2      2.43\n",
       "4      CuGaSe2      1.68\n",
       "5      CuGaTe2      1.12\n",
       "6       CuInS2      1.53\n",
       "7      CuInSe2      1.04\n",
       "8      CuInTe2      1.06\n",
       "9       AgAlS2      3.13\n",
       "10     AgAlSe2      2.55\n",
       "11     AgAlTe2      2.27\n",
       "12      AgGaS2      2.64\n",
       "13     AgGaSe2      1.80\n",
       "14     AgGaTe2      1.32\n",
       "15      AgInS2      1.87\n",
       "16     AgInSe2      1.24\n",
       "17     AgInTe2      0.95\n",
       "18      ZnSiP2      2.07\n",
       "19     ZnSiAs2      1.74\n",
       "20      ZnGeP2      2.05\n",
       "21     ZnGeAs2      1.15\n",
       "22      CdSiP2      2.33\n",
       "23     CdSiAs2      1.55\n",
       "24      CdGeP2      1.72\n",
       "25     CdGeAs2      0.57\n",
       "26      CdSnP2      1.17\n",
       "27     CdSnAs2      0.26"
      ]
     },
     "execution_count": 3,
     "metadata": {},
     "output_type": "execute_result"
    }
   ],
   "source": [
    "training_file = \"datasets/dey_training_set.csv\"\n",
    "training_set = pd.read_csv(\"datasets/dey_training_set.csv\")\n",
    "training_set.columns=[\"composition\", \"band_gap\"]\n",
    "training_set"
   ]
  },
  {
   "cell_type": "markdown",
   "metadata": {},
   "source": [
    "## Compute Attributes\n",
    "Attributes are what serve as input in to the machine learning model. In this section, we compute attributes given the composition of the materials.\n",
    "\n",
    "All of the compounds in the training set are $ABC_2$ compounds where $A$ are Cu-group elements, Zn-group elements, Be, or Mg; $B$ are Group III or IV elements, and $C$ are Group VI or V elements.\n",
    "\n",
    "Following Dey *et al.*, we compute features based on the elemental properties of the $A$, $B$, and $C$ elements using all available elemental properties"
   ]
  },
  {
   "cell_type": "code",
   "execution_count": 4,
   "metadata": {},
   "outputs": [
    {
     "data": {
      "text/html": [
       "<div>\n",
       "<style>\n",
       "    .dataframe thead tr:only-child th {\n",
       "        text-align: right;\n",
       "    }\n",
       "\n",
       "    .dataframe thead th {\n",
       "        text-align: left;\n",
       "    }\n",
       "\n",
       "    .dataframe tbody tr th {\n",
       "        vertical-align: top;\n",
       "    }\n",
       "</style>\n",
       "<table border=\"1\" class=\"dataframe\">\n",
       "  <thead>\n",
       "    <tr style=\"text-align: right;\">\n",
       "      <th></th>\n",
       "      <th>composition</th>\n",
       "      <th>band_gap</th>\n",
       "      <th>AN_A</th>\n",
       "      <th>AN_B</th>\n",
       "      <th>AN_C</th>\n",
       "      <th>EN_A</th>\n",
       "      <th>EN_B</th>\n",
       "      <th>EN_C</th>\n",
       "      <th>MP_A</th>\n",
       "      <th>MP_B</th>\n",
       "      <th>MP_C</th>\n",
       "      <th>PR_A</th>\n",
       "      <th>PR_B</th>\n",
       "      <th>PR_C</th>\n",
       "      <th>VL_A</th>\n",
       "      <th>VL_B</th>\n",
       "      <th>VL_C</th>\n",
       "    </tr>\n",
       "  </thead>\n",
       "  <tbody>\n",
       "    <tr>\n",
       "      <th>0</th>\n",
       "      <td>CuAlS2</td>\n",
       "      <td>3.49</td>\n",
       "      <td>29.0</td>\n",
       "      <td>13.0</td>\n",
       "      <td>16.0</td>\n",
       "      <td>1.08</td>\n",
       "      <td>1.64</td>\n",
       "      <td>2.65</td>\n",
       "      <td>1358.0</td>\n",
       "      <td>933.5</td>\n",
       "      <td>388.4</td>\n",
       "      <td>2.040</td>\n",
       "      <td>1.675</td>\n",
       "      <td>1.100</td>\n",
       "      <td>11.0</td>\n",
       "      <td>3.0</td>\n",
       "      <td>6.0</td>\n",
       "    </tr>\n",
       "    <tr>\n",
       "      <th>1</th>\n",
       "      <td>CuAlSe2</td>\n",
       "      <td>2.67</td>\n",
       "      <td>29.0</td>\n",
       "      <td>13.0</td>\n",
       "      <td>34.0</td>\n",
       "      <td>1.08</td>\n",
       "      <td>1.64</td>\n",
       "      <td>2.54</td>\n",
       "      <td>1358.0</td>\n",
       "      <td>933.5</td>\n",
       "      <td>494.0</td>\n",
       "      <td>2.040</td>\n",
       "      <td>1.675</td>\n",
       "      <td>1.285</td>\n",
       "      <td>11.0</td>\n",
       "      <td>3.0</td>\n",
       "      <td>6.0</td>\n",
       "    </tr>\n",
       "    <tr>\n",
       "      <th>2</th>\n",
       "      <td>CuAlTe2</td>\n",
       "      <td>2.06</td>\n",
       "      <td>29.0</td>\n",
       "      <td>13.0</td>\n",
       "      <td>52.0</td>\n",
       "      <td>1.08</td>\n",
       "      <td>1.64</td>\n",
       "      <td>2.38</td>\n",
       "      <td>1358.0</td>\n",
       "      <td>933.5</td>\n",
       "      <td>722.7</td>\n",
       "      <td>2.040</td>\n",
       "      <td>1.675</td>\n",
       "      <td>1.670</td>\n",
       "      <td>11.0</td>\n",
       "      <td>3.0</td>\n",
       "      <td>6.0</td>\n",
       "    </tr>\n",
       "    <tr>\n",
       "      <th>3</th>\n",
       "      <td>CuGaS2</td>\n",
       "      <td>2.43</td>\n",
       "      <td>29.0</td>\n",
       "      <td>31.0</td>\n",
       "      <td>16.0</td>\n",
       "      <td>1.08</td>\n",
       "      <td>1.70</td>\n",
       "      <td>2.65</td>\n",
       "      <td>1358.0</td>\n",
       "      <td>302.9</td>\n",
       "      <td>388.4</td>\n",
       "      <td>2.040</td>\n",
       "      <td>1.695</td>\n",
       "      <td>1.100</td>\n",
       "      <td>11.0</td>\n",
       "      <td>3.0</td>\n",
       "      <td>6.0</td>\n",
       "    </tr>\n",
       "    <tr>\n",
       "      <th>4</th>\n",
       "      <td>CuGaSe2</td>\n",
       "      <td>1.68</td>\n",
       "      <td>29.0</td>\n",
       "      <td>31.0</td>\n",
       "      <td>34.0</td>\n",
       "      <td>1.08</td>\n",
       "      <td>1.70</td>\n",
       "      <td>2.54</td>\n",
       "      <td>1358.0</td>\n",
       "      <td>302.9</td>\n",
       "      <td>494.0</td>\n",
       "      <td>2.040</td>\n",
       "      <td>1.695</td>\n",
       "      <td>1.285</td>\n",
       "      <td>11.0</td>\n",
       "      <td>3.0</td>\n",
       "      <td>6.0</td>\n",
       "    </tr>\n",
       "    <tr>\n",
       "      <th>5</th>\n",
       "      <td>CuGaTe2</td>\n",
       "      <td>1.12</td>\n",
       "      <td>29.0</td>\n",
       "      <td>31.0</td>\n",
       "      <td>52.0</td>\n",
       "      <td>1.08</td>\n",
       "      <td>1.70</td>\n",
       "      <td>2.38</td>\n",
       "      <td>1358.0</td>\n",
       "      <td>302.9</td>\n",
       "      <td>722.7</td>\n",
       "      <td>2.040</td>\n",
       "      <td>1.695</td>\n",
       "      <td>1.670</td>\n",
       "      <td>11.0</td>\n",
       "      <td>3.0</td>\n",
       "      <td>6.0</td>\n",
       "    </tr>\n",
       "    <tr>\n",
       "      <th>6</th>\n",
       "      <td>CuInS2</td>\n",
       "      <td>1.53</td>\n",
       "      <td>29.0</td>\n",
       "      <td>49.0</td>\n",
       "      <td>16.0</td>\n",
       "      <td>1.08</td>\n",
       "      <td>1.63</td>\n",
       "      <td>2.65</td>\n",
       "      <td>1358.0</td>\n",
       "      <td>429.8</td>\n",
       "      <td>388.4</td>\n",
       "      <td>2.040</td>\n",
       "      <td>2.050</td>\n",
       "      <td>1.100</td>\n",
       "      <td>11.0</td>\n",
       "      <td>3.0</td>\n",
       "      <td>6.0</td>\n",
       "    </tr>\n",
       "    <tr>\n",
       "      <th>7</th>\n",
       "      <td>CuInSe2</td>\n",
       "      <td>1.04</td>\n",
       "      <td>29.0</td>\n",
       "      <td>49.0</td>\n",
       "      <td>34.0</td>\n",
       "      <td>1.08</td>\n",
       "      <td>1.63</td>\n",
       "      <td>2.54</td>\n",
       "      <td>1358.0</td>\n",
       "      <td>429.8</td>\n",
       "      <td>494.0</td>\n",
       "      <td>2.040</td>\n",
       "      <td>2.050</td>\n",
       "      <td>1.285</td>\n",
       "      <td>11.0</td>\n",
       "      <td>3.0</td>\n",
       "      <td>6.0</td>\n",
       "    </tr>\n",
       "    <tr>\n",
       "      <th>8</th>\n",
       "      <td>CuInTe2</td>\n",
       "      <td>1.06</td>\n",
       "      <td>29.0</td>\n",
       "      <td>49.0</td>\n",
       "      <td>52.0</td>\n",
       "      <td>1.08</td>\n",
       "      <td>1.63</td>\n",
       "      <td>2.38</td>\n",
       "      <td>1358.0</td>\n",
       "      <td>429.8</td>\n",
       "      <td>722.7</td>\n",
       "      <td>2.040</td>\n",
       "      <td>2.050</td>\n",
       "      <td>1.670</td>\n",
       "      <td>11.0</td>\n",
       "      <td>3.0</td>\n",
       "      <td>6.0</td>\n",
       "    </tr>\n",
       "    <tr>\n",
       "      <th>9</th>\n",
       "      <td>AgAlS2</td>\n",
       "      <td>3.13</td>\n",
       "      <td>47.0</td>\n",
       "      <td>13.0</td>\n",
       "      <td>16.0</td>\n",
       "      <td>1.07</td>\n",
       "      <td>1.64</td>\n",
       "      <td>2.65</td>\n",
       "      <td>1235.0</td>\n",
       "      <td>933.5</td>\n",
       "      <td>388.4</td>\n",
       "      <td>2.375</td>\n",
       "      <td>1.675</td>\n",
       "      <td>1.100</td>\n",
       "      <td>11.0</td>\n",
       "      <td>3.0</td>\n",
       "      <td>6.0</td>\n",
       "    </tr>\n",
       "    <tr>\n",
       "      <th>10</th>\n",
       "      <td>AgAlSe2</td>\n",
       "      <td>2.55</td>\n",
       "      <td>47.0</td>\n",
       "      <td>13.0</td>\n",
       "      <td>34.0</td>\n",
       "      <td>1.07</td>\n",
       "      <td>1.64</td>\n",
       "      <td>2.54</td>\n",
       "      <td>1235.0</td>\n",
       "      <td>933.5</td>\n",
       "      <td>494.0</td>\n",
       "      <td>2.375</td>\n",
       "      <td>1.675</td>\n",
       "      <td>1.285</td>\n",
       "      <td>11.0</td>\n",
       "      <td>3.0</td>\n",
       "      <td>6.0</td>\n",
       "    </tr>\n",
       "    <tr>\n",
       "      <th>11</th>\n",
       "      <td>AgAlTe2</td>\n",
       "      <td>2.27</td>\n",
       "      <td>47.0</td>\n",
       "      <td>13.0</td>\n",
       "      <td>52.0</td>\n",
       "      <td>1.07</td>\n",
       "      <td>1.64</td>\n",
       "      <td>2.38</td>\n",
       "      <td>1235.0</td>\n",
       "      <td>933.5</td>\n",
       "      <td>722.7</td>\n",
       "      <td>2.375</td>\n",
       "      <td>1.675</td>\n",
       "      <td>1.670</td>\n",
       "      <td>11.0</td>\n",
       "      <td>3.0</td>\n",
       "      <td>6.0</td>\n",
       "    </tr>\n",
       "    <tr>\n",
       "      <th>12</th>\n",
       "      <td>AgGaS2</td>\n",
       "      <td>2.64</td>\n",
       "      <td>47.0</td>\n",
       "      <td>31.0</td>\n",
       "      <td>16.0</td>\n",
       "      <td>1.07</td>\n",
       "      <td>1.70</td>\n",
       "      <td>2.65</td>\n",
       "      <td>1235.0</td>\n",
       "      <td>302.9</td>\n",
       "      <td>388.4</td>\n",
       "      <td>2.375</td>\n",
       "      <td>1.695</td>\n",
       "      <td>1.100</td>\n",
       "      <td>11.0</td>\n",
       "      <td>3.0</td>\n",
       "      <td>6.0</td>\n",
       "    </tr>\n",
       "    <tr>\n",
       "      <th>13</th>\n",
       "      <td>AgGaSe2</td>\n",
       "      <td>1.80</td>\n",
       "      <td>47.0</td>\n",
       "      <td>31.0</td>\n",
       "      <td>34.0</td>\n",
       "      <td>1.07</td>\n",
       "      <td>1.70</td>\n",
       "      <td>2.54</td>\n",
       "      <td>1235.0</td>\n",
       "      <td>302.9</td>\n",
       "      <td>494.0</td>\n",
       "      <td>2.375</td>\n",
       "      <td>1.695</td>\n",
       "      <td>1.285</td>\n",
       "      <td>11.0</td>\n",
       "      <td>3.0</td>\n",
       "      <td>6.0</td>\n",
       "    </tr>\n",
       "    <tr>\n",
       "      <th>14</th>\n",
       "      <td>AgGaTe2</td>\n",
       "      <td>1.32</td>\n",
       "      <td>47.0</td>\n",
       "      <td>31.0</td>\n",
       "      <td>52.0</td>\n",
       "      <td>1.07</td>\n",
       "      <td>1.70</td>\n",
       "      <td>2.38</td>\n",
       "      <td>1235.0</td>\n",
       "      <td>302.9</td>\n",
       "      <td>722.7</td>\n",
       "      <td>2.375</td>\n",
       "      <td>1.695</td>\n",
       "      <td>1.670</td>\n",
       "      <td>11.0</td>\n",
       "      <td>3.0</td>\n",
       "      <td>6.0</td>\n",
       "    </tr>\n",
       "    <tr>\n",
       "      <th>15</th>\n",
       "      <td>AgInS2</td>\n",
       "      <td>1.87</td>\n",
       "      <td>47.0</td>\n",
       "      <td>49.0</td>\n",
       "      <td>16.0</td>\n",
       "      <td>1.07</td>\n",
       "      <td>1.63</td>\n",
       "      <td>2.65</td>\n",
       "      <td>1235.0</td>\n",
       "      <td>429.8</td>\n",
       "      <td>388.4</td>\n",
       "      <td>2.375</td>\n",
       "      <td>2.050</td>\n",
       "      <td>1.100</td>\n",
       "      <td>11.0</td>\n",
       "      <td>3.0</td>\n",
       "      <td>6.0</td>\n",
       "    </tr>\n",
       "    <tr>\n",
       "      <th>16</th>\n",
       "      <td>AgInSe2</td>\n",
       "      <td>1.24</td>\n",
       "      <td>47.0</td>\n",
       "      <td>49.0</td>\n",
       "      <td>34.0</td>\n",
       "      <td>1.07</td>\n",
       "      <td>1.63</td>\n",
       "      <td>2.54</td>\n",
       "      <td>1235.0</td>\n",
       "      <td>429.8</td>\n",
       "      <td>494.0</td>\n",
       "      <td>2.375</td>\n",
       "      <td>2.050</td>\n",
       "      <td>1.285</td>\n",
       "      <td>11.0</td>\n",
       "      <td>3.0</td>\n",
       "      <td>6.0</td>\n",
       "    </tr>\n",
       "    <tr>\n",
       "      <th>17</th>\n",
       "      <td>AgInTe2</td>\n",
       "      <td>0.95</td>\n",
       "      <td>47.0</td>\n",
       "      <td>49.0</td>\n",
       "      <td>52.0</td>\n",
       "      <td>1.07</td>\n",
       "      <td>1.63</td>\n",
       "      <td>2.38</td>\n",
       "      <td>1235.0</td>\n",
       "      <td>429.8</td>\n",
       "      <td>722.7</td>\n",
       "      <td>2.375</td>\n",
       "      <td>2.050</td>\n",
       "      <td>1.670</td>\n",
       "      <td>11.0</td>\n",
       "      <td>3.0</td>\n",
       "      <td>6.0</td>\n",
       "    </tr>\n",
       "    <tr>\n",
       "      <th>18</th>\n",
       "      <td>ZnSiP2</td>\n",
       "      <td>2.07</td>\n",
       "      <td>30.0</td>\n",
       "      <td>14.0</td>\n",
       "      <td>15.0</td>\n",
       "      <td>1.44</td>\n",
       "      <td>1.98</td>\n",
       "      <td>2.32</td>\n",
       "      <td>692.7</td>\n",
       "      <td>1687.0</td>\n",
       "      <td>317.3</td>\n",
       "      <td>1.880</td>\n",
       "      <td>1.420</td>\n",
       "      <td>1.240</td>\n",
       "      <td>12.0</td>\n",
       "      <td>4.0</td>\n",
       "      <td>5.0</td>\n",
       "    </tr>\n",
       "    <tr>\n",
       "      <th>19</th>\n",
       "      <td>ZnSiAs2</td>\n",
       "      <td>1.74</td>\n",
       "      <td>30.0</td>\n",
       "      <td>14.0</td>\n",
       "      <td>33.0</td>\n",
       "      <td>1.44</td>\n",
       "      <td>1.98</td>\n",
       "      <td>2.27</td>\n",
       "      <td>692.7</td>\n",
       "      <td>1687.0</td>\n",
       "      <td>1089.0</td>\n",
       "      <td>1.880</td>\n",
       "      <td>1.420</td>\n",
       "      <td>1.415</td>\n",
       "      <td>12.0</td>\n",
       "      <td>4.0</td>\n",
       "      <td>5.0</td>\n",
       "    </tr>\n",
       "    <tr>\n",
       "      <th>20</th>\n",
       "      <td>ZnGeP2</td>\n",
       "      <td>2.05</td>\n",
       "      <td>30.0</td>\n",
       "      <td>32.0</td>\n",
       "      <td>15.0</td>\n",
       "      <td>1.44</td>\n",
       "      <td>1.99</td>\n",
       "      <td>2.32</td>\n",
       "      <td>692.7</td>\n",
       "      <td>1211.0</td>\n",
       "      <td>317.3</td>\n",
       "      <td>1.880</td>\n",
       "      <td>1.560</td>\n",
       "      <td>1.240</td>\n",
       "      <td>12.0</td>\n",
       "      <td>4.0</td>\n",
       "      <td>5.0</td>\n",
       "    </tr>\n",
       "    <tr>\n",
       "      <th>21</th>\n",
       "      <td>ZnGeAs2</td>\n",
       "      <td>1.15</td>\n",
       "      <td>30.0</td>\n",
       "      <td>32.0</td>\n",
       "      <td>33.0</td>\n",
       "      <td>1.44</td>\n",
       "      <td>1.99</td>\n",
       "      <td>2.27</td>\n",
       "      <td>692.7</td>\n",
       "      <td>1211.0</td>\n",
       "      <td>1089.0</td>\n",
       "      <td>1.880</td>\n",
       "      <td>1.560</td>\n",
       "      <td>1.415</td>\n",
       "      <td>12.0</td>\n",
       "      <td>4.0</td>\n",
       "      <td>5.0</td>\n",
       "    </tr>\n",
       "    <tr>\n",
       "      <th>22</th>\n",
       "      <td>CdSiP2</td>\n",
       "      <td>2.33</td>\n",
       "      <td>48.0</td>\n",
       "      <td>14.0</td>\n",
       "      <td>15.0</td>\n",
       "      <td>1.40</td>\n",
       "      <td>1.98</td>\n",
       "      <td>2.32</td>\n",
       "      <td>594.3</td>\n",
       "      <td>1687.0</td>\n",
       "      <td>317.3</td>\n",
       "      <td>2.215</td>\n",
       "      <td>1.420</td>\n",
       "      <td>1.240</td>\n",
       "      <td>12.0</td>\n",
       "      <td>4.0</td>\n",
       "      <td>5.0</td>\n",
       "    </tr>\n",
       "    <tr>\n",
       "      <th>23</th>\n",
       "      <td>CdSiAs2</td>\n",
       "      <td>1.55</td>\n",
       "      <td>48.0</td>\n",
       "      <td>14.0</td>\n",
       "      <td>33.0</td>\n",
       "      <td>1.40</td>\n",
       "      <td>1.98</td>\n",
       "      <td>2.27</td>\n",
       "      <td>594.3</td>\n",
       "      <td>1687.0</td>\n",
       "      <td>1089.0</td>\n",
       "      <td>2.215</td>\n",
       "      <td>1.420</td>\n",
       "      <td>1.415</td>\n",
       "      <td>12.0</td>\n",
       "      <td>4.0</td>\n",
       "      <td>5.0</td>\n",
       "    </tr>\n",
       "    <tr>\n",
       "      <th>24</th>\n",
       "      <td>CdGeP2</td>\n",
       "      <td>1.72</td>\n",
       "      <td>48.0</td>\n",
       "      <td>32.0</td>\n",
       "      <td>15.0</td>\n",
       "      <td>1.40</td>\n",
       "      <td>1.99</td>\n",
       "      <td>2.32</td>\n",
       "      <td>594.3</td>\n",
       "      <td>1211.0</td>\n",
       "      <td>317.3</td>\n",
       "      <td>2.215</td>\n",
       "      <td>1.560</td>\n",
       "      <td>1.240</td>\n",
       "      <td>12.0</td>\n",
       "      <td>4.0</td>\n",
       "      <td>5.0</td>\n",
       "    </tr>\n",
       "    <tr>\n",
       "      <th>25</th>\n",
       "      <td>CdGeAs2</td>\n",
       "      <td>0.57</td>\n",
       "      <td>48.0</td>\n",
       "      <td>32.0</td>\n",
       "      <td>33.0</td>\n",
       "      <td>1.40</td>\n",
       "      <td>1.99</td>\n",
       "      <td>2.27</td>\n",
       "      <td>594.3</td>\n",
       "      <td>1211.0</td>\n",
       "      <td>1089.0</td>\n",
       "      <td>2.215</td>\n",
       "      <td>1.560</td>\n",
       "      <td>1.415</td>\n",
       "      <td>12.0</td>\n",
       "      <td>4.0</td>\n",
       "      <td>5.0</td>\n",
       "    </tr>\n",
       "    <tr>\n",
       "      <th>26</th>\n",
       "      <td>CdSnP2</td>\n",
       "      <td>1.17</td>\n",
       "      <td>48.0</td>\n",
       "      <td>50.0</td>\n",
       "      <td>15.0</td>\n",
       "      <td>1.40</td>\n",
       "      <td>1.88</td>\n",
       "      <td>2.32</td>\n",
       "      <td>594.3</td>\n",
       "      <td>505.1</td>\n",
       "      <td>317.3</td>\n",
       "      <td>2.215</td>\n",
       "      <td>1.880</td>\n",
       "      <td>1.240</td>\n",
       "      <td>12.0</td>\n",
       "      <td>4.0</td>\n",
       "      <td>5.0</td>\n",
       "    </tr>\n",
       "    <tr>\n",
       "      <th>27</th>\n",
       "      <td>CdSnAs2</td>\n",
       "      <td>0.26</td>\n",
       "      <td>48.0</td>\n",
       "      <td>50.0</td>\n",
       "      <td>33.0</td>\n",
       "      <td>1.40</td>\n",
       "      <td>1.88</td>\n",
       "      <td>2.27</td>\n",
       "      <td>594.3</td>\n",
       "      <td>505.1</td>\n",
       "      <td>1089.0</td>\n",
       "      <td>2.215</td>\n",
       "      <td>1.880</td>\n",
       "      <td>1.415</td>\n",
       "      <td>12.0</td>\n",
       "      <td>4.0</td>\n",
       "      <td>5.0</td>\n",
       "    </tr>\n",
       "  </tbody>\n",
       "</table>\n",
       "</div>"
      ],
      "text/plain": [
       "   composition  band_gap  AN_A  AN_B  AN_C  EN_A  EN_B  EN_C    MP_A    MP_B  \\\n",
       "0       CuAlS2      3.49  29.0  13.0  16.0  1.08  1.64  2.65  1358.0   933.5   \n",
       "1      CuAlSe2      2.67  29.0  13.0  34.0  1.08  1.64  2.54  1358.0   933.5   \n",
       "2      CuAlTe2      2.06  29.0  13.0  52.0  1.08  1.64  2.38  1358.0   933.5   \n",
       "3       CuGaS2      2.43  29.0  31.0  16.0  1.08  1.70  2.65  1358.0   302.9   \n",
       "4      CuGaSe2      1.68  29.0  31.0  34.0  1.08  1.70  2.54  1358.0   302.9   \n",
       "5      CuGaTe2      1.12  29.0  31.0  52.0  1.08  1.70  2.38  1358.0   302.9   \n",
       "6       CuInS2      1.53  29.0  49.0  16.0  1.08  1.63  2.65  1358.0   429.8   \n",
       "7      CuInSe2      1.04  29.0  49.0  34.0  1.08  1.63  2.54  1358.0   429.8   \n",
       "8      CuInTe2      1.06  29.0  49.0  52.0  1.08  1.63  2.38  1358.0   429.8   \n",
       "9       AgAlS2      3.13  47.0  13.0  16.0  1.07  1.64  2.65  1235.0   933.5   \n",
       "10     AgAlSe2      2.55  47.0  13.0  34.0  1.07  1.64  2.54  1235.0   933.5   \n",
       "11     AgAlTe2      2.27  47.0  13.0  52.0  1.07  1.64  2.38  1235.0   933.5   \n",
       "12      AgGaS2      2.64  47.0  31.0  16.0  1.07  1.70  2.65  1235.0   302.9   \n",
       "13     AgGaSe2      1.80  47.0  31.0  34.0  1.07  1.70  2.54  1235.0   302.9   \n",
       "14     AgGaTe2      1.32  47.0  31.0  52.0  1.07  1.70  2.38  1235.0   302.9   \n",
       "15      AgInS2      1.87  47.0  49.0  16.0  1.07  1.63  2.65  1235.0   429.8   \n",
       "16     AgInSe2      1.24  47.0  49.0  34.0  1.07  1.63  2.54  1235.0   429.8   \n",
       "17     AgInTe2      0.95  47.0  49.0  52.0  1.07  1.63  2.38  1235.0   429.8   \n",
       "18      ZnSiP2      2.07  30.0  14.0  15.0  1.44  1.98  2.32   692.7  1687.0   \n",
       "19     ZnSiAs2      1.74  30.0  14.0  33.0  1.44  1.98  2.27   692.7  1687.0   \n",
       "20      ZnGeP2      2.05  30.0  32.0  15.0  1.44  1.99  2.32   692.7  1211.0   \n",
       "21     ZnGeAs2      1.15  30.0  32.0  33.0  1.44  1.99  2.27   692.7  1211.0   \n",
       "22      CdSiP2      2.33  48.0  14.0  15.0  1.40  1.98  2.32   594.3  1687.0   \n",
       "23     CdSiAs2      1.55  48.0  14.0  33.0  1.40  1.98  2.27   594.3  1687.0   \n",
       "24      CdGeP2      1.72  48.0  32.0  15.0  1.40  1.99  2.32   594.3  1211.0   \n",
       "25     CdGeAs2      0.57  48.0  32.0  33.0  1.40  1.99  2.27   594.3  1211.0   \n",
       "26      CdSnP2      1.17  48.0  50.0  15.0  1.40  1.88  2.32   594.3   505.1   \n",
       "27     CdSnAs2      0.26  48.0  50.0  33.0  1.40  1.88  2.27   594.3   505.1   \n",
       "\n",
       "      MP_C   PR_A   PR_B   PR_C  VL_A  VL_B  VL_C  \n",
       "0    388.4  2.040  1.675  1.100  11.0   3.0   6.0  \n",
       "1    494.0  2.040  1.675  1.285  11.0   3.0   6.0  \n",
       "2    722.7  2.040  1.675  1.670  11.0   3.0   6.0  \n",
       "3    388.4  2.040  1.695  1.100  11.0   3.0   6.0  \n",
       "4    494.0  2.040  1.695  1.285  11.0   3.0   6.0  \n",
       "5    722.7  2.040  1.695  1.670  11.0   3.0   6.0  \n",
       "6    388.4  2.040  2.050  1.100  11.0   3.0   6.0  \n",
       "7    494.0  2.040  2.050  1.285  11.0   3.0   6.0  \n",
       "8    722.7  2.040  2.050  1.670  11.0   3.0   6.0  \n",
       "9    388.4  2.375  1.675  1.100  11.0   3.0   6.0  \n",
       "10   494.0  2.375  1.675  1.285  11.0   3.0   6.0  \n",
       "11   722.7  2.375  1.675  1.670  11.0   3.0   6.0  \n",
       "12   388.4  2.375  1.695  1.100  11.0   3.0   6.0  \n",
       "13   494.0  2.375  1.695  1.285  11.0   3.0   6.0  \n",
       "14   722.7  2.375  1.695  1.670  11.0   3.0   6.0  \n",
       "15   388.4  2.375  2.050  1.100  11.0   3.0   6.0  \n",
       "16   494.0  2.375  2.050  1.285  11.0   3.0   6.0  \n",
       "17   722.7  2.375  2.050  1.670  11.0   3.0   6.0  \n",
       "18   317.3  1.880  1.420  1.240  12.0   4.0   5.0  \n",
       "19  1089.0  1.880  1.420  1.415  12.0   4.0   5.0  \n",
       "20   317.3  1.880  1.560  1.240  12.0   4.0   5.0  \n",
       "21  1089.0  1.880  1.560  1.415  12.0   4.0   5.0  \n",
       "22   317.3  2.215  1.420  1.240  12.0   4.0   5.0  \n",
       "23  1089.0  2.215  1.420  1.415  12.0   4.0   5.0  \n",
       "24   317.3  2.215  1.560  1.240  12.0   4.0   5.0  \n",
       "25  1089.0  2.215  1.560  1.415  12.0   4.0   5.0  \n",
       "26   317.3  2.215  1.880  1.240  12.0   4.0   5.0  \n",
       "27  1089.0  2.215  1.880  1.415  12.0   4.0   5.0  "
      ]
     },
     "execution_count": 4,
     "metadata": {},
     "output_type": "execute_result"
    }
   ],
   "source": [
    "attributes = np.zeros((len(training_set), 15))\n",
    "\n",
    "elem_re = re.compile('[A-Z][a-z]?')\n",
    "\n",
    "# Compute the features\n",
    "for i in range(len(training_set)):\n",
    "    elements = elem_re.findall(training_set[\"composition\"][i])\n",
    "    for j in range(len(elements)):\n",
    "        attributes[i,5*j:5*(j+1)] = elem_properties[elements[j]]\n",
    "\n",
    "# Add them to dataframe\n",
    "attr_labels = [\"EN\", \"AN\", \"MP\", \"PR\", \"VL\"]\n",
    "atom_labels = [\"A\", \"B\", \"C\"]\n",
    "\n",
    "labels = []\n",
    "for i in range(len(atom_labels)):\n",
    "    for j in range(len(attr_labels)):\n",
    "        labels.append(\"%s_%s\"%(attr_labels[j], atom_labels[i]))\n",
    "\n",
    "training_set = training_set.assign(\n",
    "    **dict(zip(labels, [attributes[:, i] for i in range(np.shape(attributes)[1])])))\n",
    "\n",
    "training_set"
   ]
  },
  {
   "cell_type": "markdown",
   "metadata": {},
   "source": [
    "## Feature Subset Selection\n",
    "Here, we use the subset selection technique employed by Dey *et al.* to determine which group of features, out of all 15 used to describe our training set, lead to the most predictive linear model."
   ]
  },
  {
   "cell_type": "code",
   "execution_count": 5,
   "metadata": {
    "collapsed": true
   },
   "outputs": [],
   "source": [
    "max_size = len(labels) if True else 7 # Set to True to run all combinations"
   ]
  },
  {
   "cell_type": "code",
   "execution_count": 6,
   "metadata": {},
   "outputs": [
    {
     "name": "stdout",
     "output_type": "stream",
     "text": [
      "Number of possible subsets: 32767\n"
     ]
    }
   ],
   "source": [
    "all_subsets = sum([list(itertools.combinations(labels, s)) for s in range(1, max_size+1)], [])\n",
    "print 'Number of possible subsets:', len(all_subsets)"
   ]
  },
  {
   "cell_type": "markdown",
   "metadata": {
    "collapsed": true
   },
   "source": [
    "Run a leave-on-out cross-validation test on every subset of attributes. We use Ordinary Least Squares, but it should work with any of the regression methods."
   ]
  },
  {
   "cell_type": "code",
   "execution_count": 7,
   "metadata": {
    "collapsed": true
   },
   "outputs": [],
   "source": [
    "def cross_validate(training_set, model, labels=labels):\n",
    "    \"\"\"Compute the mean squared error for a leave-one-out cross-validation test\n",
    "    \n",
    "    Args: training_set (DataFrame) - Data used for cr\"\"\"\n",
    "    errors = cross_val_score(model, training_set[labels], training_set['band_gap'], n_jobs=1,\n",
    "                             scoring='neg_mean_squared_error', cv=LeaveOneOut())\n",
    "    mscve = np.mean(np.abs(errors))\n",
    "    return mscve"
   ]
  },
  {
   "cell_type": "code",
   "execution_count": 8,
   "metadata": {},
   "outputs": [],
   "source": [
    "#Test every subset of a given size\n",
    "def test_subset(training_set, subset, method=LinearRegression()):\n",
    "    \"\"\"Test out a certain subset of attributes\n",
    "    \n",
    "    Args: training_set - Data used for fitting\n",
    "          subset - Subset of attributes to use as inputs\n",
    "\n",
    "    Returns: Mean squared error in LOOCV\"\"\"\n",
    "\n",
    "    #Crossvalidate\n",
    "    return cross_validate(training_set, method, list(subset))"
   ]
  },
  {
   "cell_type": "code",
   "execution_count": 9,
   "metadata": {},
   "outputs": [
    {
     "name": "stdout",
     "output_type": "stream",
     "text": [
      " 32767/32767 - EN_A,AN_A,MP_A,PR_A,VL_A,EN_B,AN_B,MP_B,PR_B,VL_B,EN_C,AN_C,MP_C,PR_C,VL_C                                                                                                                                                                                                                                                                                                                                                                                                                                                                                                                                                                                                                                                                                                                                                                                                                                                                                                                                                                                                                                                                                                                                                                                                                                                                                                                                                                                                                                                                                                                                                                                                                                                                                                                                                                                                                                                                                                                                                                                                                                                                                                                                                                                                                                                                                                                                                                                                                                                                                                                                                                                                                                                                                                                                                                                                                                                                                                                                                                                                                                                                                                                                                                                                                                                                                                                                                                                                                                                                                                                                                                                                                                                                                                                                                                                                                                                                                                                                                                                                                                                                                                                                                                                                                                                                                                                                                                                                                                                                                                                                                                                                                                                                                                                                                                                                                                                                                                                                                                                                                                                                                                                                                                                                                                                                                                                                                                                                                                                                                                                                                                                                                                                                                                                                                                                                                                                                                                                                                                                                                                                                                                                                                                                                                                                                                                                                                                                                                                                                                                                                                                                                                                                                                                                                                                                                                                                                                                                                                                                                                                                                                                                                                                                                                                                                                                                                                                                                                                                                                                                                                                                                                                                                                                                                                                                                                                                                                                                                                               \n"
     ]
    }
   ],
   "source": [
    "mscve = []\n",
    "for i,subset in enumerate(all_subsets):\n",
    "    print \"\\r %d/%d - %s\"%(i+1, len(all_subsets), ','.join(subset)),\n",
    "    mscve.append(test_subset(training_set, subset))"
   ]
  },
  {
   "cell_type": "code",
   "execution_count": 11,
   "metadata": {
    "collapsed": true
   },
   "outputs": [],
   "source": [
    "attr_selection_results = pd.DataFrame({'subset':all_subsets, 'mscve':mscve})"
   ]
  },
  {
   "cell_type": "markdown",
   "metadata": {},
   "source": [
    "### Plot error metrics vs number of attributes\n",
    "Determine which number of descriptors leads to the best model"
   ]
  },
  {
   "cell_type": "code",
   "execution_count": 12,
   "metadata": {},
   "outputs": [],
   "source": [
    "attr_selection_results['size'] = attr_selection_results['subset'].apply(lambda x: len(x))"
   ]
  },
  {
   "cell_type": "code",
   "execution_count": 13,
   "metadata": {
    "collapsed": true
   },
   "outputs": [],
   "source": [
    "attr_selection_by_size = pd.DataFrame(dict([(i, {'size': i, 'min': g['mscve'].min(), 'mean': g['mscve'].mean(), \n",
    "                                                 'Below 0.06':float(sum(g['mscve'] < 0.06)) / len(g)})\n",
    "                                            for i,g in attr_selection_results.groupby('size')])).T"
   ]
  },
  {
   "cell_type": "code",
   "execution_count": 19,
   "metadata": {},
   "outputs": [
    {
     "data": {
      "text/plain": [
       "<matplotlib.text.Text at 0xdafa400>"
      ]
     },
     "execution_count": 19,
     "metadata": {},
     "output_type": "execute_result"
    },
    {
     "data": {
      "image/png": "[encoded data removed]",
      "text/plain": [
       "<matplotlib.figure.Figure at 0xbd95ac8>"
      ]
     },
     "metadata": {},
     "output_type": "display_data"
    }
   ],
   "source": [
    "fig, ax = plt.subplots()\n",
    "\n",
    "ax.semilogy(attr_selection_by_size['size'], attr_selection_by_size['min'])\n",
    "\n",
    "ax.set_xlabel('Number of attributes')\n",
    "ax.set_ylabel('Best MSCVE (eV$^2$)')"
   ]
  },
  {
   "cell_type": "markdown",
   "metadata": {},
   "source": [
    "Given enough features, the model tends to overfit. Too few, and the model is underfit. The optimimum is somewhere around 5 features."
   ]
  },
  {
   "cell_type": "markdown",
   "metadata": {},
   "source": [
    "## Get the Top Attributes\n",
    "Print out the top 5 (see Table 4 of Dey *et al*). Many choices of models are equivalent because there are limited numbers of chemistries (i.e., $I-III-VI_2$ and $II-IV-V_2$), which makes the valence attributes (e.g., `VL_A`) collinear. "
   ]
  },
  {
   "cell_type": "code",
   "execution_count": 20,
   "metadata": {
    "collapsed": true
   },
   "outputs": [],
   "source": [
    "# Get nearly-equivalent models (tol=1e-8)\n",
    "attr_selection_results['score'] = attr_selection_results['mscve'].apply(lambda x: int(x * 1e8))\n",
    "attr_selection_results.sort_values(['score', 'size'], ascending=True, inplace=True)\n",
    "attr_selection_results.drop_duplicates('score', keep='first', inplace=True)\n",
    "attr_selection_results.drop('score', axis=1, inplace=True)"
   ]
  },
  {
   "cell_type": "code",
   "execution_count": 21,
   "metadata": {
    "collapsed": true
   },
   "outputs": [],
   "source": [
    "attr_selection_results['subset'] = attr_selection_results['subset'].apply(lambda x: sorted(x))"
   ]
  },
  {
   "cell_type": "code",
   "execution_count": 22,
   "metadata": {},
   "outputs": [
    {
     "data": {
      "text/html": [
       "<div>\n",
       "<style>\n",
       "    .dataframe thead tr:only-child th {\n",
       "        text-align: right;\n",
       "    }\n",
       "\n",
       "    .dataframe thead th {\n",
       "        text-align: left;\n",
       "    }\n",
       "\n",
       "    .dataframe tbody tr th {\n",
       "        vertical-align: top;\n",
       "    }\n",
       "</style>\n",
       "<table border=\"1\" class=\"dataframe\">\n",
       "  <thead>\n",
       "    <tr style=\"text-align: right;\">\n",
       "      <th></th>\n",
       "      <th>mscve</th>\n",
       "      <th>subset</th>\n",
       "      <th>size</th>\n",
       "    </tr>\n",
       "  </thead>\n",
       "  <tbody>\n",
       "    <tr>\n",
       "      <th>4596</th>\n",
       "      <td>0.051031</td>\n",
       "      <td>[AN_B, AN_C, PR_B, PR_C, VL_A]</td>\n",
       "      <td>5</td>\n",
       "    </tr>\n",
       "    <tr>\n",
       "      <th>4504</th>\n",
       "      <td>0.051474</td>\n",
       "      <td>[AN_B, AN_C, EN_B, PR_C, VL_A]</td>\n",
       "      <td>5</td>\n",
       "    </tr>\n",
       "    <tr>\n",
       "      <th>1669</th>\n",
       "      <td>0.052467</td>\n",
       "      <td>[AN_B, AN_C, PR_C, VL_A]</td>\n",
       "      <td>4</td>\n",
       "    </tr>\n",
       "    <tr>\n",
       "      <th>4757</th>\n",
       "      <td>0.052719</td>\n",
       "      <td>[AN_C, EN_B, MP_B, PR_B, PR_C]</td>\n",
       "      <td>5</td>\n",
       "    </tr>\n",
       "    <tr>\n",
       "      <th>4591</th>\n",
       "      <td>0.052871</td>\n",
       "      <td>[AN_B, AN_C, EN_C, PR_B, VL_A]</td>\n",
       "      <td>5</td>\n",
       "    </tr>\n",
       "  </tbody>\n",
       "</table>\n",
       "</div>"
      ],
      "text/plain": [
       "         mscve                          subset  size\n",
       "4596  0.051031  [AN_B, AN_C, PR_B, PR_C, VL_A]     5\n",
       "4504  0.051474  [AN_B, AN_C, EN_B, PR_C, VL_A]     5\n",
       "1669  0.052467        [AN_B, AN_C, PR_C, VL_A]     4\n",
       "4757  0.052719  [AN_C, EN_B, MP_B, PR_B, PR_C]     5\n",
       "4591  0.052871  [AN_B, AN_C, EN_C, PR_B, VL_A]     5"
      ]
     },
     "execution_count": 22,
     "metadata": {},
     "output_type": "execute_result"
    }
   ],
   "source": [
    "attr_selection_results.sort_values(['mscve', 'size'], ascending=True).head(5)"
   ]
  },
  {
   "cell_type": "code",
   "execution_count": 23,
   "metadata": {},
   "outputs": [
    {
     "name": "stdout",
     "output_type": "stream",
     "text": [
      "Best subset: ['AN_B', 'AN_C', 'PR_B', 'PR_C', 'VL_A']\n"
     ]
    }
   ],
   "source": [
    "best_subset = list(attr_selection_results.sort_values('mscve', ascending=True).iloc[0]['subset'])\n",
    "print 'Best subset:', best_subset"
   ]
  },
  {
   "cell_type": "markdown",
   "metadata": {},
   "source": [
    "The features in our best subsets and the scores agree with the findings of Dey *et al* (Table 4 of their paper). The only exception is minor: our top score is `0.0510`, where the value in Table 4 is `0.0501`. Given the excellent agreement otherwise, we assume this is a typo"
   ]
  },
  {
   "cell_type": "markdown",
   "metadata": {},
   "source": [
    "## Test Regression Methods\n",
    "In this section, we evaluate the performance of different machine learning models. As the original code used by Dey *et al* is not available, we attempt to implement these methods using [scikit-learn](http://scikit-learn.org/stable/) where possible.\n",
    "\n",
    "We first determine the optimal hyper-parameters for each model. e then compare their fitness on the original training set and in cross-validation."
   ]
  },
  {
   "cell_type": "markdown",
   "metadata": {},
   "source": [
    "First, we define a general fitting function. It runs a fitting procedure using the provided regression method implemented in sci-kit learn."
   ]
  },
  {
   "cell_type": "code",
   "execution_count": 24,
   "metadata": {
    "collapsed": true
   },
   "outputs": [],
   "source": [
    "def optimize_parameters(training_set, method, labels=labels, **kwargs):\n",
    "    \"\"\"Determine the optimal set of parameters for an algorithm\n",
    "    \n",
    "    Uses leave-one-out cross-validation\n",
    "    \n",
    "    Args:     training_set (Dataframe): Data uses for tuning\n",
    "              labels (list): Columns of training_set to use as inputs\n",
    "              method (sklearn regressor): Model to be turned\n",
    "    Kwargs: parameters to be tuned, and their search ranges\n",
    "    Returns: Copy of the model with the parameters tuned\"\"\"\n",
    "    \n",
    "    return GridSearchCV(method, kwargs, cv=LeaveOneOut(), scoring='neg_mean_squared_error')\\\n",
    "            .fit(training_set[labels], training_set['band_gap']).best_estimator_"
   ]
  },
  {
   "cell_type": "code",
   "execution_count": 25,
   "metadata": {
    "collapsed": true
   },
   "outputs": [],
   "source": [
    "def fit_data(training_set, model, labels=labels, test_set=None):\n",
    "    \"\"\" General function to fit a regression model and make a prediction.\n",
    "    \n",
    "        Args:    training_set (DataFrame): Inputs and outputs to the model\n",
    "                 labels (list): Columns of training_set to use as inputs\n",
    "                 test_set (DataFrame): Data to be evaluated (if None, run training_set)\n",
    "                 model (sklearn model): Model to be tested\n",
    "        Returns: updated DataFrame (ndarray)\n",
    "    \"\"\"\n",
    "\n",
    "    # Fit the model\n",
    "    model.fit(training_set[labels], training_set['band_gap'])\n",
    "    \n",
    "    # Run the prediction\n",
    "    if test_set is None:\n",
    "        test_set = training_set\n",
    "    return model.predict(test_set[labels])"
   ]
  },
  {
   "cell_type": "markdown",
   "metadata": {},
   "source": [
    "1) Ordinary Linear Regression"
   ]
  },
  {
   "cell_type": "code",
   "execution_count": 26,
   "metadata": {
    "collapsed": true
   },
   "outputs": [],
   "source": [
    "ols_model = optimize_parameters(training_set, LinearRegression(), fit_intercept=[True, False], normalize=[True, False])"
   ]
  },
  {
   "cell_type": "code",
   "execution_count": 27,
   "metadata": {},
   "outputs": [
    {
     "data": {
      "text/plain": [
       "{'copy_X': True, 'fit_intercept': True, 'n_jobs': 1, 'normalize': True}"
      ]
     },
     "execution_count": 27,
     "metadata": {},
     "output_type": "execute_result"
    }
   ],
   "source": [
    "ols_model.get_params()"
   ]
  },
  {
   "cell_type": "code",
   "execution_count": 28,
   "metadata": {
    "collapsed": true,
    "scrolled": false
   },
   "outputs": [],
   "source": [
    "training_set['band_gap ols'] = fit_data(training_set, ols_model)"
   ]
  },
  {
   "cell_type": "markdown",
   "metadata": {},
   "source": [
    "1b) Ordinary Linear Regression, on a small subset"
   ]
  },
  {
   "cell_type": "code",
   "execution_count": 29,
   "metadata": {
    "collapsed": true
   },
   "outputs": [],
   "source": [
    "training_set['band_gap ols,selected'] = fit_data(training_set, ols_model, best_subset)"
   ]
  },
  {
   "cell_type": "markdown",
   "metadata": {},
   "source": [
    "2) Lasso, implemented with LARS"
   ]
  },
  {
   "cell_type": "code",
   "execution_count": 30,
   "metadata": {},
   "outputs": [
    {
     "name": "stderr",
     "output_type": "stream",
     "text": [
      "C:\\Users\\Logan\\Miniconda2\\lib\\site-packages\\sklearn\\linear_model\\least_angle.py:313: ConvergenceWarning: Regressors in active set degenerate. Dropping a regressor, after 11 iterations, i.e. alpha=1.016e-03, with an active set of 7 regressors, and the smallest cholesky pivot element being 2.220e-16. Reduce max_iter or increase eps parameters.\n",
      "  ConvergenceWarning)\n",
      "C:\\Users\\Logan\\Miniconda2\\lib\\site-packages\\sklearn\\linear_model\\least_angle.py:313: ConvergenceWarning: Regressors in active set degenerate. Dropping a regressor, after 11 iterations, i.e. alpha=1.016e-03, with an active set of 7 regressors, and the smallest cholesky pivot element being 1.825e-08. Reduce max_iter or increase eps parameters.\n",
      "  ConvergenceWarning)\n",
      "C:\\Users\\Logan\\Miniconda2\\lib\\site-packages\\sklearn\\linear_model\\least_angle.py:313: ConvergenceWarning: Regressors in active set degenerate. Dropping a regressor, after 11 iterations, i.e. alpha=9.257e-04, with an active set of 7 regressors, and the smallest cholesky pivot element being 1.825e-08. Reduce max_iter or increase eps parameters.\n",
      "  ConvergenceWarning)\n",
      "C:\\Users\\Logan\\Miniconda2\\lib\\site-packages\\sklearn\\linear_model\\least_angle.py:313: ConvergenceWarning: Regressors in active set degenerate. Dropping a regressor, after 11 iterations, i.e. alpha=7.598e-04, with an active set of 7 regressors, and the smallest cholesky pivot element being 1.054e-08. Reduce max_iter or increase eps parameters.\n",
      "  ConvergenceWarning)\n",
      "C:\\Users\\Logan\\Miniconda2\\lib\\site-packages\\sklearn\\linear_model\\least_angle.py:339: ConvergenceWarning: Early stopping the lars path, as the residues are small and the current value of alpha is no longer well controlled. 12 iterations, alpha=9.457e-04, previous alpha=6.090e-04, with an active set of 7 regressors.\n",
      "  ConvergenceWarning)\n",
      "C:\\Users\\Logan\\Miniconda2\\lib\\site-packages\\sklearn\\linear_model\\least_angle.py:313: ConvergenceWarning: Regressors in active set degenerate. Dropping a regressor, after 11 iterations, i.e. alpha=1.868e-03, with an active set of 7 regressors, and the smallest cholesky pivot element being 2.220e-16. Reduce max_iter or increase eps parameters.\n",
      "  ConvergenceWarning)\n",
      "C:\\Users\\Logan\\Miniconda2\\lib\\site-packages\\sklearn\\linear_model\\least_angle.py:313: ConvergenceWarning: Regressors in active set degenerate. Dropping a regressor, after 11 iterations, i.e. alpha=1.868e-03, with an active set of 7 regressors, and the smallest cholesky pivot element being 1.825e-08. Reduce max_iter or increase eps parameters.\n",
      "  ConvergenceWarning)\n",
      "C:\\Users\\Logan\\Miniconda2\\lib\\site-packages\\sklearn\\linear_model\\least_angle.py:339: ConvergenceWarning: Early stopping the lars path, as the residues are small and the current value of alpha is no longer well controlled. 12 iterations, alpha=1.856e-03, previous alpha=1.667e-03, with an active set of 7 regressors.\n",
      "  ConvergenceWarning)\n",
      "C:\\Users\\Logan\\Miniconda2\\lib\\site-packages\\sklearn\\linear_model\\least_angle.py:313: ConvergenceWarning: Regressors in active set degenerate. Dropping a regressor, after 9 iterations, i.e. alpha=1.552e-03, with an active set of 5 regressors, and the smallest cholesky pivot element being 1.825e-08. Reduce max_iter or increase eps parameters.\n",
      "  ConvergenceWarning)\n",
      "C:\\Users\\Logan\\Miniconda2\\lib\\site-packages\\sklearn\\linear_model\\least_angle.py:313: ConvergenceWarning: Regressors in active set degenerate. Dropping a regressor, after 10 iterations, i.e. alpha=1.536e-03, with an active set of 6 regressors, and the smallest cholesky pivot element being 1.054e-08. Reduce max_iter or increase eps parameters.\n",
      "  ConvergenceWarning)\n",
      "C:\\Users\\Logan\\Miniconda2\\lib\\site-packages\\sklearn\\linear_model\\least_angle.py:313: ConvergenceWarning: Regressors in active set degenerate. Dropping a regressor, after 10 iterations, i.e. alpha=1.536e-03, with an active set of 6 regressors, and the smallest cholesky pivot element being 1.825e-08. Reduce max_iter or increase eps parameters.\n",
      "  ConvergenceWarning)\n",
      "C:\\Users\\Logan\\Miniconda2\\lib\\site-packages\\sklearn\\linear_model\\least_angle.py:313: ConvergenceWarning: Regressors in active set degenerate. Dropping a regressor, after 12 iterations, i.e. alpha=8.531e-04, with an active set of 8 regressors, and the smallest cholesky pivot element being 2.220e-16. Reduce max_iter or increase eps parameters.\n",
      "  ConvergenceWarning)\n",
      "C:\\Users\\Logan\\Miniconda2\\lib\\site-packages\\sklearn\\linear_model\\least_angle.py:313: ConvergenceWarning: Regressors in active set degenerate. Dropping a regressor, after 12 iterations, i.e. alpha=6.583e-04, with an active set of 8 regressors, and the smallest cholesky pivot element being 1.054e-08. Reduce max_iter or increase eps parameters.\n",
      "  ConvergenceWarning)\n",
      "C:\\Users\\Logan\\Miniconda2\\lib\\site-packages\\sklearn\\linear_model\\least_angle.py:313: ConvergenceWarning: Regressors in active set degenerate. Dropping a regressor, after 10 iterations, i.e. alpha=1.336e-03, with an active set of 8 regressors, and the smallest cholesky pivot element being 1.490e-08. Reduce max_iter or increase eps parameters.\n",
      "  ConvergenceWarning)\n",
      "C:\\Users\\Logan\\Miniconda2\\lib\\site-packages\\sklearn\\linear_model\\least_angle.py:313: ConvergenceWarning: Regressors in active set degenerate. Dropping a regressor, after 11 iterations, i.e. alpha=4.130e-04, with an active set of 7 regressors, and the smallest cholesky pivot element being 1.054e-08. Reduce max_iter or increase eps parameters.\n",
      "  ConvergenceWarning)\n",
      "C:\\Users\\Logan\\Miniconda2\\lib\\site-packages\\sklearn\\linear_model\\least_angle.py:313: ConvergenceWarning: Regressors in active set degenerate. Dropping a regressor, after 11 iterations, i.e. alpha=2.973e-04, with an active set of 7 regressors, and the smallest cholesky pivot element being 2.581e-08. Reduce max_iter or increase eps parameters.\n",
      "  ConvergenceWarning)\n",
      "C:\\Users\\Logan\\Miniconda2\\lib\\site-packages\\sklearn\\linear_model\\least_angle.py:313: ConvergenceWarning: Regressors in active set degenerate. Dropping a regressor, after 11 iterations, i.e. alpha=2.861e-04, with an active set of 7 regressors, and the smallest cholesky pivot element being 2.581e-08. Reduce max_iter or increase eps parameters.\n",
      "  ConvergenceWarning)\n",
      "C:\\Users\\Logan\\Miniconda2\\lib\\site-packages\\sklearn\\linear_model\\least_angle.py:313: ConvergenceWarning: Regressors in active set degenerate. Dropping a regressor, after 11 iterations, i.e. alpha=2.281e-04, with an active set of 7 regressors, and the smallest cholesky pivot element being 2.107e-08. Reduce max_iter or increase eps parameters.\n",
      "  ConvergenceWarning)\n",
      "C:\\Users\\Logan\\Miniconda2\\lib\\site-packages\\sklearn\\linear_model\\least_angle.py:313: ConvergenceWarning: Regressors in active set degenerate. Dropping a regressor, after 8 iterations, i.e. alpha=1.557e-03, with an active set of 6 regressors, and the smallest cholesky pivot element being 1.490e-08. Reduce max_iter or increase eps parameters.\n",
      "  ConvergenceWarning)\n",
      "C:\\Users\\Logan\\Miniconda2\\lib\\site-packages\\sklearn\\linear_model\\least_angle.py:313: ConvergenceWarning: Regressors in active set degenerate. Dropping a regressor, after 8 iterations, i.e. alpha=1.557e-03, with an active set of 6 regressors, and the smallest cholesky pivot element being 2.107e-08. Reduce max_iter or increase eps parameters.\n",
      "  ConvergenceWarning)\n",
      "C:\\Users\\Logan\\Miniconda2\\lib\\site-packages\\sklearn\\linear_model\\least_angle.py:339: ConvergenceWarning: Early stopping the lars path, as the residues are small and the current value of alpha is no longer well controlled. 9 iterations, alpha=1.490e-03, previous alpha=1.425e-03, with an active set of 6 regressors.\n",
      "  ConvergenceWarning)\n",
      "C:\\Users\\Logan\\Miniconda2\\lib\\site-packages\\sklearn\\linear_model\\least_angle.py:313: ConvergenceWarning: Regressors in active set degenerate. Dropping a regressor, after 12 iterations, i.e. alpha=1.641e-03, with an active set of 8 regressors, and the smallest cholesky pivot element being 1.054e-08. Reduce max_iter or increase eps parameters.\n",
      "  ConvergenceWarning)\n",
      "C:\\Users\\Logan\\Miniconda2\\lib\\site-packages\\sklearn\\linear_model\\least_angle.py:313: ConvergenceWarning: Regressors in active set degenerate. Dropping a regressor, after 12 iterations, i.e. alpha=1.037e-03, with an active set of 8 regressors, and the smallest cholesky pivot element being 2.356e-08. Reduce max_iter or increase eps parameters.\n",
      "  ConvergenceWarning)\n",
      "C:\\Users\\Logan\\Miniconda2\\lib\\site-packages\\sklearn\\linear_model\\least_angle.py:313: ConvergenceWarning: Regressors in active set degenerate. Dropping a regressor, after 12 iterations, i.e. alpha=7.720e-04, with an active set of 8 regressors, and the smallest cholesky pivot element being 1.490e-08. Reduce max_iter or increase eps parameters.\n",
      "  ConvergenceWarning)\n",
      "C:\\Users\\Logan\\Miniconda2\\lib\\site-packages\\sklearn\\linear_model\\least_angle.py:313: ConvergenceWarning: Regressors in active set degenerate. Dropping a regressor, after 11 iterations, i.e. alpha=1.058e-03, with an active set of 7 regressors, and the smallest cholesky pivot element being 1.825e-08. Reduce max_iter or increase eps parameters.\n",
      "  ConvergenceWarning)\n",
      "C:\\Users\\Logan\\Miniconda2\\lib\\site-packages\\sklearn\\linear_model\\least_angle.py:313: ConvergenceWarning: Regressors in active set degenerate. Dropping a regressor, after 12 iterations, i.e. alpha=9.243e-04, with an active set of 8 regressors, and the smallest cholesky pivot element being 1.825e-08. Reduce max_iter or increase eps parameters.\n",
      "  ConvergenceWarning)\n",
      "C:\\Users\\Logan\\Miniconda2\\lib\\site-packages\\sklearn\\linear_model\\least_angle.py:313: ConvergenceWarning: Regressors in active set degenerate. Dropping a regressor, after 12 iterations, i.e. alpha=9.243e-04, with an active set of 8 regressors, and the smallest cholesky pivot element being 1.054e-08. Reduce max_iter or increase eps parameters.\n",
      "  ConvergenceWarning)\n",
      "C:\\Users\\Logan\\Miniconda2\\lib\\site-packages\\sklearn\\linear_model\\least_angle.py:313: ConvergenceWarning: Regressors in active set degenerate. Dropping a regressor, after 12 iterations, i.e. alpha=1.284e-03, with an active set of 6 regressors, and the smallest cholesky pivot element being 2.220e-16. Reduce max_iter or increase eps parameters.\n",
      "  ConvergenceWarning)\n",
      "C:\\Users\\Logan\\Miniconda2\\lib\\site-packages\\sklearn\\linear_model\\least_angle.py:313: ConvergenceWarning: Regressors in active set degenerate. Dropping a regressor, after 11 iterations, i.e. alpha=1.674e-03, with an active set of 7 regressors, and the smallest cholesky pivot element being 1.825e-08. Reduce max_iter or increase eps parameters.\n",
      "  ConvergenceWarning)\n",
      "C:\\Users\\Logan\\Miniconda2\\lib\\site-packages\\sklearn\\linear_model\\least_angle.py:313: ConvergenceWarning: Regressors in active set degenerate. Dropping a regressor, after 11 iterations, i.e. alpha=1.647e-03, with an active set of 7 regressors, and the smallest cholesky pivot element being 1.490e-08. Reduce max_iter or increase eps parameters.\n",
      "  ConvergenceWarning)\n",
      "C:\\Users\\Logan\\Miniconda2\\lib\\site-packages\\sklearn\\linear_model\\least_angle.py:339: ConvergenceWarning: Early stopping the lars path, as the residues are small and the current value of alpha is no longer well controlled. 12 iterations, alpha=1.623e-03, previous alpha=1.584e-03, with an active set of 7 regressors.\n",
      "  ConvergenceWarning)\n",
      "C:\\Users\\Logan\\Miniconda2\\lib\\site-packages\\sklearn\\linear_model\\least_angle.py:313: ConvergenceWarning: Regressors in active set degenerate. Dropping a regressor, after 11 iterations, i.e. alpha=1.294e-03, with an active set of 7 regressors, and the smallest cholesky pivot element being 2.581e-08. Reduce max_iter or increase eps parameters.\n",
      "  ConvergenceWarning)\n",
      "C:\\Users\\Logan\\Miniconda2\\lib\\site-packages\\sklearn\\linear_model\\least_angle.py:313: ConvergenceWarning: Regressors in active set degenerate. Dropping a regressor, after 12 iterations, i.e. alpha=5.303e-04, with an active set of 8 regressors, and the smallest cholesky pivot element being 1.490e-08. Reduce max_iter or increase eps parameters.\n",
      "  ConvergenceWarning)\n",
      "C:\\Users\\Logan\\Miniconda2\\lib\\site-packages\\sklearn\\linear_model\\least_angle.py:313: ConvergenceWarning: Regressors in active set degenerate. Dropping a regressor, after 12 iterations, i.e. alpha=5.303e-04, with an active set of 8 regressors, and the smallest cholesky pivot element being 2.107e-08. Reduce max_iter or increase eps parameters.\n",
      "  ConvergenceWarning)\n",
      "C:\\Users\\Logan\\Miniconda2\\lib\\site-packages\\sklearn\\linear_model\\least_angle.py:313: ConvergenceWarning: Regressors in active set degenerate. Dropping a regressor, after 8 iterations, i.e. alpha=1.981e-03, with an active set of 6 regressors, and the smallest cholesky pivot element being 1.490e-08. Reduce max_iter or increase eps parameters.\n",
      "  ConvergenceWarning)\n",
      "C:\\Users\\Logan\\Miniconda2\\lib\\site-packages\\sklearn\\linear_model\\least_angle.py:313: ConvergenceWarning: Regressors in active set degenerate. Dropping a regressor, after 8 iterations, i.e. alpha=1.981e-03, with an active set of 6 regressors, and the smallest cholesky pivot element being 2.356e-08. Reduce max_iter or increase eps parameters.\n",
      "  ConvergenceWarning)\n",
      "C:\\Users\\Logan\\Miniconda2\\lib\\site-packages\\sklearn\\linear_model\\least_angle.py:313: ConvergenceWarning: Regressors in active set degenerate. Dropping a regressor, after 10 iterations, i.e. alpha=1.665e-03, with an active set of 6 regressors, and the smallest cholesky pivot element being 2.581e-08. Reduce max_iter or increase eps parameters.\n",
      "  ConvergenceWarning)\n",
      "C:\\Users\\Logan\\Miniconda2\\lib\\site-packages\\sklearn\\linear_model\\least_angle.py:313: ConvergenceWarning: Regressors in active set degenerate. Dropping a regressor, after 10 iterations, i.e. alpha=1.582e-03, with an active set of 6 regressors, and the smallest cholesky pivot element being 2.581e-08. Reduce max_iter or increase eps parameters.\n",
      "  ConvergenceWarning)\n",
      "C:\\Users\\Logan\\Miniconda2\\lib\\site-packages\\sklearn\\linear_model\\least_angle.py:313: ConvergenceWarning: Regressors in active set degenerate. Dropping a regressor, after 12 iterations, i.e. alpha=9.181e-04, with an active set of 8 regressors, and the smallest cholesky pivot element being 1.825e-08. Reduce max_iter or increase eps parameters.\n",
      "  ConvergenceWarning)\n",
      "C:\\Users\\Logan\\Miniconda2\\lib\\site-packages\\sklearn\\linear_model\\least_angle.py:313: ConvergenceWarning: Regressors in active set degenerate. Dropping a regressor, after 12 iterations, i.e. alpha=7.817e-04, with an active set of 8 regressors, and the smallest cholesky pivot element being 2.220e-16. Reduce max_iter or increase eps parameters.\n",
      "  ConvergenceWarning)\n",
      "C:\\Users\\Logan\\Miniconda2\\lib\\site-packages\\sklearn\\linear_model\\least_angle.py:313: ConvergenceWarning: Regressors in active set degenerate. Dropping a regressor, after 12 iterations, i.e. alpha=6.677e-04, with an active set of 8 regressors, and the smallest cholesky pivot element being 1.825e-08. Reduce max_iter or increase eps parameters.\n",
      "  ConvergenceWarning)\n",
      "C:\\Users\\Logan\\Miniconda2\\lib\\site-packages\\sklearn\\linear_model\\least_angle.py:313: ConvergenceWarning: Regressors in active set degenerate. Dropping a regressor, after 12 iterations, i.e. alpha=6.021e-04, with an active set of 8 regressors, and the smallest cholesky pivot element being 2.581e-08. Reduce max_iter or increase eps parameters.\n",
      "  ConvergenceWarning)\n",
      "C:\\Users\\Logan\\Miniconda2\\lib\\site-packages\\sklearn\\linear_model\\least_angle.py:313: ConvergenceWarning: Regressors in active set degenerate. Dropping a regressor, after 12 iterations, i.e. alpha=3.600e-04, with an active set of 8 regressors, and the smallest cholesky pivot element being 1.825e-08. Reduce max_iter or increase eps parameters.\n",
      "  ConvergenceWarning)\n",
      "C:\\Users\\Logan\\Miniconda2\\lib\\site-packages\\sklearn\\linear_model\\least_angle.py:313: ConvergenceWarning: Regressors in active set degenerate. Dropping a regressor, after 8 iterations, i.e. alpha=1.630e-03, with an active set of 6 regressors, and the smallest cholesky pivot element being 2.107e-08. Reduce max_iter or increase eps parameters.\n",
      "  ConvergenceWarning)\n",
      "C:\\Users\\Logan\\Miniconda2\\lib\\site-packages\\sklearn\\linear_model\\least_angle.py:313: ConvergenceWarning: Regressors in active set degenerate. Dropping a regressor, after 8 iterations, i.e. alpha=1.630e-03, with an active set of 6 regressors, and the smallest cholesky pivot element being 1.490e-08. Reduce max_iter or increase eps parameters.\n",
      "  ConvergenceWarning)\n",
      "C:\\Users\\Logan\\Miniconda2\\lib\\site-packages\\sklearn\\linear_model\\least_angle.py:339: ConvergenceWarning: Early stopping the lars path, as the residues are small and the current value of alpha is no longer well controlled. 9 iterations, alpha=1.586e-03, previous alpha=1.484e-03, with an active set of 6 regressors.\n",
      "  ConvergenceWarning)\n"
     ]
    },
    {
     "name": "stderr",
     "output_type": "stream",
     "text": [
      "C:\\Users\\Logan\\Miniconda2\\lib\\site-packages\\sklearn\\linear_model\\least_angle.py:313: ConvergenceWarning: Regressors in active set degenerate. Dropping a regressor, after 12 iterations, i.e. alpha=5.939e-04, with an active set of 8 regressors, and the smallest cholesky pivot element being 2.220e-16. Reduce max_iter or increase eps parameters.\n",
      "  ConvergenceWarning)\n",
      "C:\\Users\\Logan\\Miniconda2\\lib\\site-packages\\sklearn\\linear_model\\least_angle.py:313: ConvergenceWarning: Regressors in active set degenerate. Dropping a regressor, after 12 iterations, i.e. alpha=5.939e-04, with an active set of 8 regressors, and the smallest cholesky pivot element being 2.980e-08. Reduce max_iter or increase eps parameters.\n",
      "  ConvergenceWarning)\n",
      "C:\\Users\\Logan\\Miniconda2\\lib\\site-packages\\sklearn\\linear_model\\least_angle.py:313: ConvergenceWarning: Regressors in active set degenerate. Dropping a regressor, after 12 iterations, i.e. alpha=5.724e-04, with an active set of 8 regressors, and the smallest cholesky pivot element being 2.980e-08. Reduce max_iter or increase eps parameters.\n",
      "  ConvergenceWarning)\n",
      "C:\\Users\\Logan\\Miniconda2\\lib\\site-packages\\sklearn\\linear_model\\least_angle.py:313: ConvergenceWarning: Regressors in active set degenerate. Dropping a regressor, after 12 iterations, i.e. alpha=5.724e-04, with an active set of 8 regressors, and the smallest cholesky pivot element being 2.220e-16. Reduce max_iter or increase eps parameters.\n",
      "  ConvergenceWarning)\n",
      "C:\\Users\\Logan\\Miniconda2\\lib\\site-packages\\sklearn\\linear_model\\least_angle.py:313: ConvergenceWarning: Regressors in active set degenerate. Dropping a regressor, after 11 iterations, i.e. alpha=5.801e-04, with an active set of 9 regressors, and the smallest cholesky pivot element being 2.980e-08. Reduce max_iter or increase eps parameters.\n",
      "  ConvergenceWarning)\n",
      "C:\\Users\\Logan\\Miniconda2\\lib\\site-packages\\sklearn\\linear_model\\least_angle.py:339: ConvergenceWarning: Early stopping the lars path, as the residues are small and the current value of alpha is no longer well controlled. 12 iterations, alpha=5.758e-04, previous alpha=3.528e-04, with an active set of 9 regressors.\n",
      "  ConvergenceWarning)\n",
      "C:\\Users\\Logan\\Miniconda2\\lib\\site-packages\\sklearn\\linear_model\\least_angle.py:313: ConvergenceWarning: Regressors in active set degenerate. Dropping a regressor, after 11 iterations, i.e. alpha=6.043e-04, with an active set of 9 regressors, and the smallest cholesky pivot element being 5.162e-08. Reduce max_iter or increase eps parameters.\n",
      "  ConvergenceWarning)\n",
      "C:\\Users\\Logan\\Miniconda2\\lib\\site-packages\\sklearn\\linear_model\\least_angle.py:339: ConvergenceWarning: Early stopping the lars path, as the residues are small and the current value of alpha is no longer well controlled. 12 iterations, alpha=6.015e-04, previous alpha=3.659e-04, with an active set of 9 regressors.\n",
      "  ConvergenceWarning)\n",
      "C:\\Users\\Logan\\Miniconda2\\lib\\site-packages\\sklearn\\linear_model\\least_angle.py:313: ConvergenceWarning: Regressors in active set degenerate. Dropping a regressor, after 11 iterations, i.e. alpha=5.942e-04, with an active set of 9 regressors, and the smallest cholesky pivot element being 4.215e-08. Reduce max_iter or increase eps parameters.\n",
      "  ConvergenceWarning)\n",
      "C:\\Users\\Logan\\Miniconda2\\lib\\site-packages\\sklearn\\linear_model\\least_angle.py:339: ConvergenceWarning: Early stopping the lars path, as the residues are small and the current value of alpha is no longer well controlled. 12 iterations, alpha=5.924e-04, previous alpha=3.641e-04, with an active set of 9 regressors.\n",
      "  ConvergenceWarning)\n",
      "C:\\Users\\Logan\\Miniconda2\\lib\\site-packages\\sklearn\\linear_model\\least_angle.py:313: ConvergenceWarning: Regressors in active set degenerate. Dropping a regressor, after 11 iterations, i.e. alpha=6.491e-04, with an active set of 9 regressors, and the smallest cholesky pivot element being 4.215e-08. Reduce max_iter or increase eps parameters.\n",
      "  ConvergenceWarning)\n",
      "C:\\Users\\Logan\\Miniconda2\\lib\\site-packages\\sklearn\\linear_model\\least_angle.py:339: ConvergenceWarning: Early stopping the lars path, as the residues are small and the current value of alpha is no longer well controlled. 12 iterations, alpha=6.477e-04, previous alpha=3.987e-04, with an active set of 9 regressors.\n",
      "  ConvergenceWarning)\n",
      "C:\\Users\\Logan\\Miniconda2\\lib\\site-packages\\sklearn\\linear_model\\least_angle.py:313: ConvergenceWarning: Regressors in active set degenerate. Dropping a regressor, after 12 iterations, i.e. alpha=5.638e-04, with an active set of 8 regressors, and the smallest cholesky pivot element being 2.220e-16. Reduce max_iter or increase eps parameters.\n",
      "  ConvergenceWarning)\n",
      "C:\\Users\\Logan\\Miniconda2\\lib\\site-packages\\sklearn\\linear_model\\least_angle.py:313: ConvergenceWarning: Regressors in active set degenerate. Dropping a regressor, after 12 iterations, i.e. alpha=5.638e-04, with an active set of 8 regressors, and the smallest cholesky pivot element being 4.215e-08. Reduce max_iter or increase eps parameters.\n",
      "  ConvergenceWarning)\n",
      "C:\\Users\\Logan\\Miniconda2\\lib\\site-packages\\sklearn\\linear_model\\least_angle.py:313: ConvergenceWarning: Regressors in active set degenerate. Dropping a regressor, after 12 iterations, i.e. alpha=4.879e-04, with an active set of 8 regressors, and the smallest cholesky pivot element being 2.980e-08. Reduce max_iter or increase eps parameters.\n",
      "  ConvergenceWarning)\n",
      "C:\\Users\\Logan\\Miniconda2\\lib\\site-packages\\sklearn\\linear_model\\least_angle.py:313: ConvergenceWarning: Regressors in active set degenerate. Dropping a regressor, after 12 iterations, i.e. alpha=4.879e-04, with an active set of 8 regressors, and the smallest cholesky pivot element being 5.960e-08. Reduce max_iter or increase eps parameters.\n",
      "  ConvergenceWarning)\n",
      "C:\\Users\\Logan\\Miniconda2\\lib\\site-packages\\sklearn\\linear_model\\least_angle.py:313: ConvergenceWarning: Regressors in active set degenerate. Dropping a regressor, after 11 iterations, i.e. alpha=5.814e-04, with an active set of 9 regressors, and the smallest cholesky pivot element being 4.215e-08. Reduce max_iter or increase eps parameters.\n",
      "  ConvergenceWarning)\n",
      "C:\\Users\\Logan\\Miniconda2\\lib\\site-packages\\sklearn\\linear_model\\least_angle.py:313: ConvergenceWarning: Regressors in active set degenerate. Dropping a regressor, after 11 iterations, i.e. alpha=5.814e-04, with an active set of 9 regressors, and the smallest cholesky pivot element being 6.664e-08. Reduce max_iter or increase eps parameters.\n",
      "  ConvergenceWarning)\n",
      "C:\\Users\\Logan\\Miniconda2\\lib\\site-packages\\sklearn\\linear_model\\least_angle.py:339: ConvergenceWarning: Early stopping the lars path, as the residues are small and the current value of alpha is no longer well controlled. 12 iterations, alpha=5.798e-04, previous alpha=3.547e-04, with an active set of 9 regressors.\n",
      "  ConvergenceWarning)\n",
      "C:\\Users\\Logan\\Miniconda2\\lib\\site-packages\\sklearn\\linear_model\\least_angle.py:313: ConvergenceWarning: Regressors in active set degenerate. Dropping a regressor, after 12 iterations, i.e. alpha=5.667e-04, with an active set of 8 regressors, and the smallest cholesky pivot element being 2.980e-08. Reduce max_iter or increase eps parameters.\n",
      "  ConvergenceWarning)\n",
      "C:\\Users\\Logan\\Miniconda2\\lib\\site-packages\\sklearn\\linear_model\\least_angle.py:313: ConvergenceWarning: Regressors in active set degenerate. Dropping a regressor, after 12 iterations, i.e. alpha=5.667e-04, with an active set of 8 regressors, and the smallest cholesky pivot element being 2.220e-16. Reduce max_iter or increase eps parameters.\n",
      "  ConvergenceWarning)\n",
      "C:\\Users\\Logan\\Miniconda2\\lib\\site-packages\\sklearn\\linear_model\\least_angle.py:313: ConvergenceWarning: Regressors in active set degenerate. Dropping a regressor, after 12 iterations, i.e. alpha=1.169e-03, with an active set of 6 regressors, and the smallest cholesky pivot element being 2.581e-08. Reduce max_iter or increase eps parameters.\n",
      "  ConvergenceWarning)\n"
     ]
    }
   ],
   "source": [
    "lasso_model = optimize_parameters(training_set, LassoLars(max_iter=13), fit_intercept=[True, False],\n",
    "                           alpha=np.logspace(-14,-6,11), normalize=[True, False])"
   ]
  },
  {
   "cell_type": "code",
   "execution_count": 31,
   "metadata": {},
   "outputs": [
    {
     "data": {
      "text/plain": [
       "{'alpha': 1e-14,\n",
       " 'copy_X': True,\n",
       " 'eps': 2.2204460492503131e-16,\n",
       " 'fit_intercept': True,\n",
       " 'fit_path': True,\n",
       " 'max_iter': 13,\n",
       " 'normalize': True,\n",
       " 'positive': False,\n",
       " 'precompute': 'auto',\n",
       " 'verbose': False}"
      ]
     },
     "execution_count": 31,
     "metadata": {},
     "output_type": "execute_result"
    }
   ],
   "source": [
    "lasso_model.get_params()"
   ]
  },
  {
   "cell_type": "code",
   "execution_count": 32,
   "metadata": {
    "collapsed": true
   },
   "outputs": [],
   "source": [
    "training_set['band_gap lasso'] = fit_data(training_set, model=lasso_model)"
   ]
  },
  {
   "cell_type": "markdown",
   "metadata": {},
   "source": [
    "3) Partial Least Squares Regression"
   ]
  },
  {
   "cell_type": "code",
   "execution_count": 33,
   "metadata": {
    "collapsed": true
   },
   "outputs": [],
   "source": [
    "pls_model = optimize_parameters(training_set, PLSRegression(), n_components=range(1, 10), scale=[True, False])"
   ]
  },
  {
   "cell_type": "code",
   "execution_count": 34,
   "metadata": {},
   "outputs": [
    {
     "data": {
      "text/plain": [
       "{'copy': True, 'max_iter': 500, 'n_components': 8, 'scale': True, 'tol': 1e-06}"
      ]
     },
     "execution_count": 34,
     "metadata": {},
     "output_type": "execute_result"
    }
   ],
   "source": [
    "pls_model.get_params()"
   ]
  },
  {
   "cell_type": "code",
   "execution_count": 35,
   "metadata": {
    "collapsed": true
   },
   "outputs": [],
   "source": [
    "training_set['band_gap pls'] = fit_data(training_set, pls_model)"
   ]
  },
  {
   "cell_type": "markdown",
   "metadata": {},
   "source": [
    "3) Sparse Partial Least Squares\n",
    "\n",
    "_LW 7Jul17_: The only implementation of SPLS method I found is in R ([docs](https://cran.r-project.org/web/packages/spls/spls.pdf)). Given that it has the worst performance in Dey *et al*, we elect to not test it here."
   ]
  },
  {
   "cell_type": "markdown",
   "metadata": {},
   "source": [
    "### Plot predicted vs measured results\n",
    "Compare the band gaps predicted using each regression method vs. band gaps determined experimentally. See Figure 3 of Dey _et al_"
   ]
  },
  {
   "cell_type": "code",
   "execution_count": 38,
   "metadata": {
    "scrolled": false
   },
   "outputs": [
    {
     "data": {
      "image/png": "[encoded data removed]",
      "text/plain": [
       "<matplotlib.figure.Figure at 0xbc5eda0>"
      ]
     },
     "metadata": {},
     "output_type": "display_data"
    }
   ],
   "source": [
    "#band_gaps_predicted = np.zeros(np.shape(band_gaps))\n",
    "\n",
    "plt.scatter(training_set['band_gap'], training_set['band_gap ols,selected'], color='k', label=\"OLS\")\n",
    "plt.scatter(training_set['band_gap'], training_set['band_gap lasso'], color='g', label=\"LASSO\")\n",
    "plt.scatter(training_set['band_gap'], training_set['band_gap pls'], color='r', label=\"PLS\")\n",
    "\n",
    "plt.legend()\n",
    "plt.xlabel(\"Measured Band Gap (eV)\")\n",
    "plt.ylabel(\"Predicted Band Gap (eV)\")\n",
    "plt.axis([0,4,0,4])\n",
    "plt.plot((0,5), (0,5))\n",
    "\n",
    "fig = plt.gcf()\n",
    "fig.set_size_inches(4, 4)\n",
    "\n",
    "fig.tight_layout()\n",
    "fig.savefig('dey-2014.png', dpi=320)"
   ]
  },
  {
   "cell_type": "markdown",
   "metadata": {
    "collapsed": true
   },
   "source": [
    "## Calculate Mean Square Cross-Validation Error\n",
    "\n",
    "Crossvalidate all the regression methods using Leave-One-Out method"
   ]
  },
  {
   "cell_type": "code",
   "execution_count": 37,
   "metadata": {},
   "outputs": [
    {
     "name": "stdout",
     "output_type": "stream",
     "text": [
      "Mean-Squared Cross-Validation Errors \n",
      "\n",
      "OLS w/ best subset: 0.051031\n",
      "LASSO: 0.059833\n",
      "PLS: 0.064903\n",
      "OLS w/ all features: 0.072294\n"
     ]
    }
   ],
   "source": [
    "olss_mscve = cross_validate(training_set, ols_model, labels=best_subset)\n",
    "lasso_mscve = cross_validate(training_set, lasso_model)\n",
    "pls_mscve = cross_validate(training_set, pls_model)\n",
    "ols_mscve = cross_validate(training_set, ols_model)\n",
    "\n",
    "print \"Mean-Squared Cross-Validation Errors \\n\"\n",
    "print \"OLS w/ best subset: %f\"%olss_mscve\n",
    "print \"LASSO: %f\"%lasso_mscve\n",
    "print \"PLS: %f\"%pls_mscve\n",
    "print \"OLS w/ all features: %f\"%ols_mscve"
   ]
  },
  {
   "cell_type": "markdown",
   "metadata": {},
   "source": [
    "While not exactly the same, our results are in general agreement with Dey. The OLS with feature selection is the best algorithm in LOOCV, followed by LASSO, and PLS. We note that our recreation is limited in that we did not use *sparse* PLS or the same LASSO implementation. Those differences in algorithm may account for the ~20% deviation in our results"
   ]
  },
  {
   "cell_type": "code",
   "execution_count": null,
   "metadata": {
    "collapsed": true
   },
   "outputs": [],
   "source": []
  }
 ],
 "metadata": {
  "kernelspec": {
   "display_name": "Python 2",
   "language": "python",
   "name": "python2"
  },
  "language_info": {
   "codemirror_mode": {
    "name": "ipython",
    "version": 2
   },
   "file_extension": ".py",
   "mimetype": "text/x-python",
   "name": "python",
   "nbconvert_exporter": "python",
   "pygments_lexer": "ipython2",
   "version": "2.7.11"
  }
 },
 "nbformat": 4,
 "nbformat_minor": 2
}
